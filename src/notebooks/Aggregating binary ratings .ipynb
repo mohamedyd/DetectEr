{
 "cells": [
  {
   "cell_type": "markdown",
   "metadata": {},
   "source": [
    "### Aggregating binary ratings (algebraic approach)\n",
    "\n",
    "Algorithm reimplementation from: Dalvi, Nilesh, et al. \"Aggregating crowdsourced binary ratings.\" Proceedings of the 22nd international conference on World Wide Web. ACM, 2013."
   ]
  },
  {
   "cell_type": "code",
   "execution_count": 32,
   "metadata": {},
   "outputs": [],
   "source": [
    "%matplotlib inline\n",
    "import numpy as np\n",
    "import matplotlib.pyplot as plt\n",
    "import pandas as pd\n",
    "import utils\n",
    "\n",
    "from sklearn.metrics import confusion_matrix\n",
    "from numpy import linalg as la\n",
    "\n"
   ]
  },
  {
   "cell_type": "code",
   "execution_count": 33,
   "metadata": {},
   "outputs": [
    {
     "data": {
      "text/html": [
       "<div>\n",
       "<style scoped>\n",
       "    .dataframe tbody tr th:only-of-type {\n",
       "        vertical-align: middle;\n",
       "    }\n",
       "\n",
       "    .dataframe tbody tr th {\n",
       "        vertical-align: top;\n",
       "    }\n",
       "\n",
       "    .dataframe thead th {\n",
       "        text-align: right;\n",
       "    }\n",
       "</style>\n",
       "<table border=\"1\" class=\"dataframe\">\n",
       "  <thead>\n",
       "    <tr style=\"text-align: right;\">\n",
       "      <th></th>\n",
       "      <th>tid</th>\n",
       "      <th>attrName</th>\n",
       "      <th>label</th>\n",
       "      <th>ec-missing-value</th>\n",
       "      <th>ec-default-value</th>\n",
       "      <th>ec-top-value</th>\n",
       "      <th>ec-valid-number</th>\n",
       "      <th>ec-cardinality-vio</th>\n",
       "      <th>ec-lookup-attr</th>\n",
       "      <th>ec-pattern-value</th>\n",
       "      <th>ec-valid-ssn</th>\n",
       "    </tr>\n",
       "  </thead>\n",
       "  <tbody>\n",
       "    <tr>\n",
       "      <th>0</th>\n",
       "      <td>0</td>\n",
       "      <td>tid</td>\n",
       "      <td>0</td>\n",
       "      <td>-1</td>\n",
       "      <td>-1</td>\n",
       "      <td>-1</td>\n",
       "      <td>-1</td>\n",
       "      <td>0</td>\n",
       "      <td>0</td>\n",
       "      <td>0</td>\n",
       "      <td>0</td>\n",
       "    </tr>\n",
       "    <tr>\n",
       "      <th>1</th>\n",
       "      <td>1</td>\n",
       "      <td>tid</td>\n",
       "      <td>0</td>\n",
       "      <td>-1</td>\n",
       "      <td>-1</td>\n",
       "      <td>1</td>\n",
       "      <td>-1</td>\n",
       "      <td>0</td>\n",
       "      <td>0</td>\n",
       "      <td>0</td>\n",
       "      <td>0</td>\n",
       "    </tr>\n",
       "    <tr>\n",
       "      <th>2</th>\n",
       "      <td>2</td>\n",
       "      <td>tid</td>\n",
       "      <td>0</td>\n",
       "      <td>-1</td>\n",
       "      <td>-1</td>\n",
       "      <td>1</td>\n",
       "      <td>-1</td>\n",
       "      <td>0</td>\n",
       "      <td>0</td>\n",
       "      <td>0</td>\n",
       "      <td>0</td>\n",
       "    </tr>\n",
       "    <tr>\n",
       "      <th>3</th>\n",
       "      <td>3</td>\n",
       "      <td>tid</td>\n",
       "      <td>0</td>\n",
       "      <td>-1</td>\n",
       "      <td>-1</td>\n",
       "      <td>1</td>\n",
       "      <td>-1</td>\n",
       "      <td>0</td>\n",
       "      <td>0</td>\n",
       "      <td>0</td>\n",
       "      <td>0</td>\n",
       "    </tr>\n",
       "    <tr>\n",
       "      <th>4</th>\n",
       "      <td>4</td>\n",
       "      <td>tid</td>\n",
       "      <td>0</td>\n",
       "      <td>-1</td>\n",
       "      <td>-1</td>\n",
       "      <td>1</td>\n",
       "      <td>-1</td>\n",
       "      <td>0</td>\n",
       "      <td>0</td>\n",
       "      <td>0</td>\n",
       "      <td>0</td>\n",
       "    </tr>\n",
       "  </tbody>\n",
       "</table>\n",
       "</div>"
      ],
      "text/plain": [
       "   tid attrName  label  ec-missing-value  ec-default-value  ec-top-value  \\\n",
       "0    0      tid      0                -1                -1            -1   \n",
       "1    1      tid      0                -1                -1             1   \n",
       "2    2      tid      0                -1                -1             1   \n",
       "3    3      tid      0                -1                -1             1   \n",
       "4    4      tid      0                -1                -1             1   \n",
       "\n",
       "   ec-valid-number  ec-cardinality-vio  ec-lookup-attr  ec-pattern-value  \\\n",
       "0               -1                   0               0                 0   \n",
       "1               -1                   0               0                 0   \n",
       "2               -1                   0               0                 0   \n",
       "3               -1                   0               0                 0   \n",
       "4               -1                   0               0                 0   \n",
       "\n",
       "   ec-valid-ssn  \n",
       "0             0  \n",
       "1             0  \n",
       "2             0  \n",
       "3             0  \n",
       "4             0  "
      ]
     },
     "execution_count": 33,
     "metadata": {},
     "output_type": "execute_result"
    }
   ],
   "source": [
    "#BEERS\n",
    "init_data = pd.read_csv(\"data/beers-matrix-ec.csv\")\n",
    "init_data.head()\n"
   ]
  },
  {
   "cell_type": "code",
   "execution_count": 34,
   "metadata": {},
   "outputs": [
    {
     "data": {
      "text/html": [
       "<div>\n",
       "<style scoped>\n",
       "    .dataframe tbody tr th:only-of-type {\n",
       "        vertical-align: middle;\n",
       "    }\n",
       "\n",
       "    .dataframe tbody tr th {\n",
       "        vertical-align: top;\n",
       "    }\n",
       "\n",
       "    .dataframe thead th {\n",
       "        text-align: right;\n",
       "    }\n",
       "</style>\n",
       "<table border=\"1\" class=\"dataframe\">\n",
       "  <thead>\n",
       "    <tr style=\"text-align: right;\">\n",
       "      <th></th>\n",
       "      <th>ec-missing-value</th>\n",
       "      <th>ec-default-value</th>\n",
       "      <th>ec-top-value</th>\n",
       "      <th>ec-valid-number</th>\n",
       "      <th>ec-cardinality-vio</th>\n",
       "      <th>ec-lookup-attr</th>\n",
       "      <th>ec-pattern-value</th>\n",
       "      <th>ec-valid-ssn</th>\n",
       "    </tr>\n",
       "  </thead>\n",
       "  <tbody>\n",
       "    <tr>\n",
       "      <th>0</th>\n",
       "      <td>-1</td>\n",
       "      <td>-1</td>\n",
       "      <td>-1</td>\n",
       "      <td>-1</td>\n",
       "      <td>0</td>\n",
       "      <td>0</td>\n",
       "      <td>0</td>\n",
       "      <td>0</td>\n",
       "    </tr>\n",
       "    <tr>\n",
       "      <th>1</th>\n",
       "      <td>-1</td>\n",
       "      <td>-1</td>\n",
       "      <td>1</td>\n",
       "      <td>-1</td>\n",
       "      <td>0</td>\n",
       "      <td>0</td>\n",
       "      <td>0</td>\n",
       "      <td>0</td>\n",
       "    </tr>\n",
       "    <tr>\n",
       "      <th>2</th>\n",
       "      <td>-1</td>\n",
       "      <td>-1</td>\n",
       "      <td>1</td>\n",
       "      <td>-1</td>\n",
       "      <td>0</td>\n",
       "      <td>0</td>\n",
       "      <td>0</td>\n",
       "      <td>0</td>\n",
       "    </tr>\n",
       "    <tr>\n",
       "      <th>3</th>\n",
       "      <td>-1</td>\n",
       "      <td>-1</td>\n",
       "      <td>1</td>\n",
       "      <td>-1</td>\n",
       "      <td>0</td>\n",
       "      <td>0</td>\n",
       "      <td>0</td>\n",
       "      <td>0</td>\n",
       "    </tr>\n",
       "    <tr>\n",
       "      <th>4</th>\n",
       "      <td>-1</td>\n",
       "      <td>-1</td>\n",
       "      <td>1</td>\n",
       "      <td>-1</td>\n",
       "      <td>0</td>\n",
       "      <td>0</td>\n",
       "      <td>0</td>\n",
       "      <td>0</td>\n",
       "    </tr>\n",
       "  </tbody>\n",
       "</table>\n",
       "</div>"
      ],
      "text/plain": [
       "   ec-missing-value  ec-default-value  ec-top-value  ec-valid-number  \\\n",
       "0                -1                -1            -1               -1   \n",
       "1                -1                -1             1               -1   \n",
       "2                -1                -1             1               -1   \n",
       "3                -1                -1             1               -1   \n",
       "4                -1                -1             1               -1   \n",
       "\n",
       "   ec-cardinality-vio  ec-lookup-attr  ec-pattern-value  ec-valid-ssn  \n",
       "0                   0               0                 0             0  \n",
       "1                   0               0                 0             0  \n",
       "2                   0               0                 0             0  \n",
       "3                   0               0                 0             0  \n",
       "4                   0               0                 0             0  "
      ]
     },
     "execution_count": 34,
     "metadata": {},
     "output_type": "execute_result"
    }
   ],
   "source": [
    "#Generate assignment matrix: G\n",
    "\n",
    "ec_data = init_data[[\"ec-missing-value\",\"ec-default-value\",\"ec-top-value\",\"ec-valid-number\",\"ec-cardinality-vio\",\"ec-lookup-attr\",\"ec-pattern-value\",\"ec-valid-ssn\"]]\n",
    "ec_data.head()\n"
   ]
  },
  {
   "cell_type": "code",
   "execution_count": 35,
   "metadata": {},
   "outputs": [],
   "source": [
    "# Q - Initial matrix\n",
    "Q = np.asmatrix(ec_data.values)"
   ]
  },
  {
   "cell_type": "markdown",
   "metadata": {},
   "source": [
    "#### Assignment matrix"
   ]
  },
  {
   "cell_type": "code",
   "execution_count": 36,
   "metadata": {},
   "outputs": [
    {
     "data": {
      "text/plain": [
       "(26510, 8)"
      ]
     },
     "execution_count": 36,
     "metadata": {},
     "output_type": "execute_result"
    }
   ],
   "source": [
    "# G - assignment matrix\n",
    "ec_data = ec_data.replace(-1, 1)\n",
    "G = np.asmatrix(ec_data.values)\n",
    "G.shape"
   ]
  },
  {
   "cell_type": "code",
   "execution_count": 37,
   "metadata": {},
   "outputs": [
    {
     "data": {
      "text/plain": [
       "matrix([[1, 1, 1, ..., 0, 0, 0],\n",
       "        [1, 1, 1, ..., 0, 0, 0],\n",
       "        [1, 1, 1, ..., 0, 0, 0],\n",
       "        ...,\n",
       "        [1, 0, 0, ..., 0, 0, 0],\n",
       "        [1, 1, 1, ..., 0, 0, 0],\n",
       "        [1, 0, 0, ..., 0, 0, 0]])"
      ]
     },
     "execution_count": 37,
     "metadata": {},
     "output_type": "execute_result"
    }
   ],
   "source": [
    "# assignment matrix\n",
    "G"
   ]
  },
  {
   "cell_type": "markdown",
   "metadata": {},
   "source": [
    "#### Rating generation model"
   ]
  },
  {
   "cell_type": "code",
   "execution_count": 38,
   "metadata": {},
   "outputs": [],
   "source": [
    "def coin_flip(prob): #parameter prob denotes the probability of each trial\n",
    "    n = 1  # number of trials, \n",
    "    s = np.random.binomial(n, prob, 1)\n",
    "    return s[0]"
   ]
  },
  {
   "cell_type": "code",
   "execution_count": 39,
   "metadata": {},
   "outputs": [
    {
     "data": {
      "text/plain": [
       "(26510, 8)"
      ]
     },
     "execution_count": 39,
     "metadata": {},
     "output_type": "execute_result"
    }
   ],
   "source": [
    "apply_flip = lambda i: i if(i == 0) else ( i if(coin_flip(0.8)==1) else -i )\n",
    "\n",
    "#apply_flip = lambda i: i==0 and i or (coin_flip(0.5)==1 and i or -i)\n",
    "\n",
    "vectorized_flip = np.vectorize(apply_flip)\n",
    "U = vectorized_flip(G)\n",
    "U.shape"
   ]
  },
  {
   "cell_type": "code",
   "execution_count": 40,
   "metadata": {},
   "outputs": [
    {
     "data": {
      "text/plain": [
       "matrix([[-1,  1,  1, ...,  0,  0,  0],\n",
       "        [ 1,  1,  1, ...,  0,  0,  0],\n",
       "        [ 1,  1, -1, ...,  0,  0,  0],\n",
       "        ...,\n",
       "        [ 1,  0,  0, ...,  0,  0,  0],\n",
       "        [ 1,  1,  1, ...,  0,  0,  0],\n",
       "        [ 1,  0,  0, ...,  0,  0,  0]])"
      ]
     },
     "execution_count": 40,
     "metadata": {},
     "output_type": "execute_result"
    }
   ],
   "source": [
    "# ratings matrix\n",
    "U"
   ]
  },
  {
   "cell_type": "code",
   "execution_count": 41,
   "metadata": {},
   "outputs": [
    {
     "data": {
      "text/plain": [
       "matrix([[26510,  8961,  9271,  3875,   699,  1646,    10,     0],\n",
       "        [ 8961, 25503,  9129,  3855,   711,  1701,     4,     0],\n",
       "        [ 9271,  9129, 25503,  3875,   719,  1803,    18,     0],\n",
       "        [ 3875,  3855,  3875, 11175,   285,     0,     0,     0],\n",
       "        [  699,   711,   719,   285,  2079,   166,     0,     0],\n",
       "        [ 1646,  1701,  1803,     0,   166,  4820,     0,     0],\n",
       "        [   10,     4,    18,     0,     0,     0,    34,     0],\n",
       "        [    0,     0,     0,     0,     0,     0,     0,     0]])"
      ]
     },
     "execution_count": 41,
     "metadata": {},
     "output_type": "execute_result"
    }
   ],
   "source": [
    "# D[j][k] denotes the difference between agreements and disagreements between users j and k\n",
    "D = np.dot(U.T, U)\n",
    "D"
   ]
  },
  {
   "cell_type": "code",
   "execution_count": 42,
   "metadata": {},
   "outputs": [
    {
     "data": {
      "text/plain": [
       "matrix([[26510, 25503, 25503, 11175,  2079,  4820,    34,     0],\n",
       "        [25503, 25503, 25503, 11175,  2027,  4693,    34,     0],\n",
       "        [25503, 25503, 25503, 11175,  2027,  4693,    34,     0],\n",
       "        [11175, 11175, 11175, 11175,   907,     0,     0,     0],\n",
       "        [ 2079,  2027,  2027,   907,  2079,   378,     0,     0],\n",
       "        [ 4820,  4693,  4693,     0,   378,  4820,     2,     0],\n",
       "        [   34,    34,    34,     0,     0,     2,    34,     0],\n",
       "        [    0,     0,     0,     0,     0,     0,     0,     0]])"
      ]
     },
     "execution_count": 42,
     "metadata": {},
     "output_type": "execute_result"
    }
   ],
   "source": [
    "# C[j][k] denotes the number of common items rated by users j and k\n",
    "C = np.dot(G.T, G)\n",
    "C"
   ]
  },
  {
   "cell_type": "code",
   "execution_count": 43,
   "metadata": {},
   "outputs": [
    {
     "data": {
      "text/plain": [
       "matrix([[1, 1, 1, 1, 1, 1, 1, 0],\n",
       "        [1, 1, 1, 1, 1, 1, 1, 0],\n",
       "        [1, 1, 1, 1, 1, 1, 1, 0],\n",
       "        [1, 1, 1, 1, 1, 0, 0, 0],\n",
       "        [1, 1, 1, 1, 1, 1, 0, 0],\n",
       "        [1, 1, 1, 0, 1, 1, 1, 0],\n",
       "        [1, 1, 1, 0, 0, 1, 1, 0],\n",
       "        [0, 0, 0, 0, 0, 0, 0, 0]])"
      ]
     },
     "execution_count": 43,
     "metadata": {},
     "output_type": "execute_result"
    }
   ],
   "source": [
    "#(a[:,None]==b).astype(int)\n",
    "(C!=0).astype(int)"
   ]
  },
  {
   "cell_type": "markdown",
   "metadata": {},
   "source": [
    "#### Preparing top eigenvectors of the two user-user matrices"
   ]
  },
  {
   "cell_type": "code",
   "execution_count": 44,
   "metadata": {},
   "outputs": [
    {
     "name": "stdout",
     "output_type": "stream",
     "text": [
      "[[5.77931524e-01]\n",
      " [5.55209541e-01]\n",
      " [5.61717178e-01]\n",
      " [1.90448814e-01]\n",
      " [2.91219402e-02]\n",
      " [7.13606075e-02]\n",
      " [3.97076611e-04]\n",
      " [0.00000000e+00]]\n",
      "[[0.55864317]\n",
      " [0.55169093]\n",
      " [0.55169093]\n",
      " [0.25881275]\n",
      " [0.04530878]\n",
      " [0.10077035]\n",
      " [0.00068274]\n",
      " [0.        ]]\n"
     ]
    }
   ],
   "source": [
    "\n",
    "w_d, v_d = la.eig(D)\n",
    "\n",
    "#top eigenvector of matrix D, which is the difference between agreements and disagreements between users\n",
    "top_v_d = v_d[:, np.argmax(w_d)]\n",
    "print(top_v_d)\n",
    "\n",
    "w_c, v_c = la.eig(C)\n",
    "#top eigenvector of matrix C, which is the number of common items rated by users\n",
    "top_v_c = v_c[:, np.argmax(w_c)]\n",
    "print(top_v_c) \n"
   ]
  },
  {
   "cell_type": "code",
   "execution_count": 45,
   "metadata": {},
   "outputs": [],
   "source": [
    "\n",
    "#print(w)\n",
    "#print(v)\n",
    "\n",
    "# calculate eigenvectors and eigenvalues\n",
    "#values, vectors = eig(D)\n",
    "# create matrix from eigenvectors\n",
    "#Q = v\n",
    "# create inverse of eigenvectors matrix\n",
    "#R = la.inv(Q)\n",
    "# create diagonal matrix from eigenvalues\n",
    "#L = np.diag(w)\n",
    "# reconstruct the original matrix\n",
    "#B_reconstr = Q.dot(L).dot(R)\n",
    "#print(B_reconstr)"
   ]
  },
  {
   "cell_type": "code",
   "execution_count": 46,
   "metadata": {},
   "outputs": [],
   "source": [
    "def compute_hadamard_vectorized(ms, ns):\n",
    "    #uu = np.asarray(ms).flatten()\n",
    "    #gg = np.asarray(ns).flatten()\n",
    "    hadamard_op= lambda i, j: 0 if (j==0) else i/j\n",
    "    hadamard_vectorized = np.vectorize(hadamard_op)\n",
    "    w_hat = hadamard_vectorized(ms, ns)\n",
    "    return w_hat"
   ]
  },
  {
   "cell_type": "code",
   "execution_count": 47,
   "metadata": {},
   "outputs": [
    {
     "data": {
      "text/plain": [
       "array([0.96662519, 0.99366255, 0.98215071, 1.35896223, 1.55582983,\n",
       "       1.41212847, 1.7194235 , 0.        ])"
      ]
     },
     "execution_count": 47,
     "metadata": {},
     "output_type": "execute_result"
    }
   ],
   "source": [
    "ms = [10, 20, 30, 40, 50, 23, 0,4]\n",
    "ns = [5, 1, 10, 40, 0]\n",
    "np.array(compute_hadamard_vectorized(top_v_c, top_v_d)).flatten()"
   ]
  },
  {
   "cell_type": "markdown",
   "metadata": {},
   "source": [
    "#### Hadamard product calculation"
   ]
  },
  {
   "cell_type": "code",
   "execution_count": 48,
   "metadata": {},
   "outputs": [],
   "source": [
    "def compute_hadamard(ms, ns):\n",
    "    uu = np.asarray(ms).flatten()\n",
    "    gg = np.asarray(ns).flatten()\n",
    "    w_hat = list(map( lambda i, j: 0 if (j==0) else i/j, uu, gg))\n",
    "    return w_hat"
   ]
  },
  {
   "cell_type": "code",
   "execution_count": 49,
   "metadata": {},
   "outputs": [],
   "source": [
    "#ms = [10, 20, 30, 40, 50]\n",
    "#ns = [5, 1, 10, 40, 0]\n",
    "#compute_hadamard(ms, ns)"
   ]
  },
  {
   "cell_type": "code",
   "execution_count": 50,
   "metadata": {},
   "outputs": [
    {
     "data": {
      "text/plain": [
       "[1.0345271473907736,\n",
       " 1.0063778705379018,\n",
       " 1.0181736727355541,\n",
       " 0.7358556248185232,\n",
       " 0.6427438160365514,\n",
       " 0.7081508687092986,\n",
       " 0.5815902822314302,\n",
       " 0]"
      ]
     },
     "execution_count": 50,
     "metadata": {},
     "output_type": "execute_result"
    }
   ],
   "source": [
    "w_hat= compute_hadamard(top_v_d, top_v_c)\n",
    "w_hat"
   ]
  },
  {
   "cell_type": "code",
   "execution_count": 51,
   "metadata": {},
   "outputs": [],
   "source": [
    "def compute_user_reliability(w_hat):\n",
    "    w_signs = np.sign(w_hat)\n",
    "    w_abs= np.abs(w_hat)\n",
    "    reliability = list(map(lambda s,a: s*max(a,1.0) , w_signs, w_abs ))\n",
    "    return reliability"
   ]
  },
  {
   "cell_type": "code",
   "execution_count": 52,
   "metadata": {},
   "outputs": [
    {
     "data": {
      "text/plain": [
       "[1.0345271473907736,\n",
       " 1.0063778705379018,\n",
       " 1.0181736727355541,\n",
       " 1.0,\n",
       " 1.0,\n",
       " 1.0,\n",
       " 1.0,\n",
       " 0.0]"
      ]
     },
     "execution_count": 52,
     "metadata": {},
     "output_type": "execute_result"
    }
   ],
   "source": [
    "u_reliablility = compute_user_reliability(w_hat)\n",
    "u_reliablility"
   ]
  },
  {
   "cell_type": "markdown",
   "metadata": {},
   "source": [
    "### item quality:\n"
   ]
  },
  {
   "cell_type": "code",
   "execution_count": 53,
   "metadata": {},
   "outputs": [
    {
     "data": {
      "text/plain": [
       "((26510, 1), (26510, 8))"
      ]
     },
     "execution_count": 53,
     "metadata": {},
     "output_type": "execute_result"
    }
   ],
   "source": [
    "qs= np.multiply(U, u_reliablility)\n",
    "q_hat = np.sign(np.sum(qs, axis=1))\n",
    "q_tmp = np.asarray(np.where(q_hat < 0.0, 0, q_hat))\n",
    "q_predicted =q_tmp.astype(int)\n",
    "q_predicted.shape, U.shape"
   ]
  },
  {
   "cell_type": "code",
   "execution_count": null,
   "metadata": {},
   "outputs": [],
   "source": []
  },
  {
   "cell_type": "code",
   "execution_count": 54,
   "metadata": {},
   "outputs": [],
   "source": [
    "#utils.f1(conf_matrix)"
   ]
  },
  {
   "cell_type": "code",
   "execution_count": 55,
   "metadata": {},
   "outputs": [],
   "source": [
    "def get_top_eigenvector(D):\n",
    "    #preparing eigenvectors:\n",
    "    w_d, v_d = la.eig(D)\n",
    "    #top eigenvector of matrix D\n",
    "    top_v_d = v_d[:, np.argmax(w_d)]\n",
    "    return top_v_d"
   ]
  },
  {
   "cell_type": "code",
   "execution_count": 56,
   "metadata": {},
   "outputs": [],
   "source": [
    "def create_indicator_mtrx(C):\n",
    "    I = (C!=0).astype(int)\n",
    "    return I"
   ]
  },
  {
   "cell_type": "code",
   "execution_count": 64,
   "metadata": {},
   "outputs": [],
   "source": [
    "def aggregating_labels_alg1(ec_data, prob):\n",
    "    #ec_data = init_data[[\"ec-missing-value\",\"ec-default-value\",\"ec-top-value\",\"ec-valid-number\",\"ec-cardinality-vio\",\"ec-lookup-attr\",\"ec-pattern-value\",\"ec-valid-ssn\"]]\n",
    "    # Q - Initial matrix\n",
    "    Q = np.asmatrix(ec_data.values)\n",
    "    # G - assignment matrix\n",
    "    ec_data = ec_data.replace(-1, 1)\n",
    "    G = np.asmatrix(ec_data.values)\n",
    "\n",
    "    #Rating generation model:\n",
    "    apply_flip = lambda i: i if(i == 0) else ( i if(coin_flip(prob)==1) else -i )\n",
    "\n",
    "    vectorized_flip = np.vectorize(apply_flip)\n",
    "    U = vectorized_flip(G)\n",
    "\n",
    "    # D[j][k] denotes the difference between agreements and disagreements between users j and k\n",
    "    D = np.dot(U.T, U)\n",
    "    # C[j][k] denotes the number of common items rated by users j and k\n",
    "    C = np.dot(G.T, G)\n",
    "\n",
    "    top_v_d = get_top_eigenvector(D)    \n",
    "    top_v_c = get_top_eigenvector(C)\n",
    "    \n",
    "    hadamard = compute_hadamard_vectorized(top_v_d, top_v_c)\n",
    "    w_hat= np.array(hadamard).flatten()\n",
    "    u_reliablility = compute_user_reliability(w_hat)\n",
    "    qs= np.multiply(U, u_reliablility)\n",
    "    q_hat = np.sign(np.sum(qs, axis=1))\n",
    "    q_tmp = np.asarray(np.where(q_hat < 0.0, 0, q_hat))\n",
    "    q_predicted =q_tmp.astype(int)\n",
    "    return u_reliablility, q_predicted"
   ]
  },
  {
   "cell_type": "code",
   "execution_count": 65,
   "metadata": {},
   "outputs": [
    {
     "name": "stdout",
     "output_type": "stream",
     "text": [
      "[[2.37693168 0.8351835  0.86407613 0.82421568 0.79917039 0.81170737\n",
      "  0.69909755 0.        ]\n",
      " [0.8351835  2.37693168 0.85084144 0.81996167 0.83374367 0.86153011\n",
      "  0.27963902 0.        ]\n",
      " [0.86407613 0.85084144 2.37693168 0.82421568 0.84312475 0.91319152\n",
      "  1.25837559 0.        ]\n",
      " [1.11342188 1.10767518 1.11342188 3.21096503 1.00895814 0.\n",
      "  0.         0.        ]\n",
      " [0.90667111 0.94589503 0.95653801 0.84735357 2.69666558 1.18424997\n",
      "  0.         0.        ]\n",
      " [0.92089451 0.97741917 1.03602984 0.         1.18424997 2.69666558\n",
      "  0.         0.        ]\n",
      " [0.94440148 0.37776059 1.69992266 0.         0.         0.\n",
      "  3.21096503 0.        ]\n",
      " [0.         0.         0.         0.         0.         0.\n",
      "  0.         0.        ]]\n"
     ]
    },
    {
     "data": {
      "text/plain": [
       "(8, 1)"
      ]
     },
     "execution_count": 65,
     "metadata": {},
     "output_type": "execute_result"
    }
   ],
   "source": [
    "\n",
    "I=(C!=0).astype(int)\n",
    "top_v_i = get_top_eigenvector(I)\n",
    "hadamard1 = compute_hadamard_vectorized(D, C)\n",
    "hadamard2 = compute_hadamard_vectorized(hadamard1, top_v_i)\n",
    "print(hadamard2)\n",
    "get_top_eigenvector(hadamard2).shape"
   ]
  },
  {
   "cell_type": "code",
   "execution_count": 66,
   "metadata": {},
   "outputs": [],
   "source": [
    "def aggregating_labels_alg2(ec_data, prob):\n",
    "    #ec_data = init_data[[\"ec-missing-value\",\"ec-default-value\",\"ec-top-value\",\"ec-valid-number\",\"ec-cardinality-vio\",\"ec-lookup-attr\",\"ec-pattern-value\",\"ec-valid-ssn\"]]\n",
    "    # Q - Initial matrix\n",
    "    Q = np.asmatrix(ec_data.values)\n",
    "    # G - assignment matrix\n",
    "    ec_data = ec_data.replace(-1, 1)\n",
    "    G = np.asmatrix(ec_data.values)\n",
    "\n",
    "    #Rating generation model:\n",
    "    apply_flip = lambda i: i if(i == 0) else ( i if(coin_flip(prob)==1) else -i )\n",
    "\n",
    "    vectorized_flip = np.vectorize(apply_flip)\n",
    "    U = vectorized_flip(G)\n",
    "\n",
    "    # D[j][k] denotes the difference between agreements and disagreements between users j and k\n",
    "    D = np.dot(U.T, U)\n",
    "    # C[j][k] denotes the number of common items rated by users j and k\n",
    "    C = np.dot(G.T, G)\n",
    "    #create indicator matrix from C\n",
    "    I = create_indicator_mtrx(C)       \n",
    "    top_v_i = get_top_eigenvector(I)\n",
    "    \n",
    "    hadamard1 = compute_hadamard_vectorized(D, C)\n",
    "    hadamard2 = compute_hadamard_vectorized(hadamard1, top_v_i)\n",
    "    w_tmp = get_top_eigenvector(hadamard2)\n",
    "    w_hat= np.array(w_tmp).flatten()\n",
    "    u_reliablility = compute_user_reliability(w_hat)\n",
    "\n",
    "    qs= np.multiply(U, u_reliablility)\n",
    "    q_hat = np.sign(np.sum(qs, axis=1))\n",
    "    q_tmp = np.asarray(np.where(q_hat < 0.0, 0, q_hat))\n",
    "    q_predicted =q_tmp.astype(int)\n",
    "    return u_reliablility, q_predicted"
   ]
  },
  {
   "cell_type": "code",
   "execution_count": 78,
   "metadata": {},
   "outputs": [
    {
     "name": "stdout",
     "output_type": "stream",
     "text": [
      "ALGORITHM 1: all ec rules\n",
      "Probability: 0.1\n",
      "Precision: 0.1547, Recall: 0.0174, F-1: 0.0312\n",
      "Probability: 0.16\n",
      "Precision: 0.3492, Recall: 0.9523, F-1: 0.5110\n",
      "Probability: 0.22000000000000003\n",
      "Precision: 0.2458, Recall: 0.0933, F-1: 0.1353\n",
      "Probability: 0.28\n",
      "Precision: 0.2785, Recall: 0.1583, F-1: 0.2018\n",
      "Probability: 0.34\n",
      "Precision: 0.3003, Recall: 0.2367, F-1: 0.2647\n",
      "Probability: 0.4\n",
      "Precision: 0.3493, Recall: 0.6705, F-1: 0.4593\n",
      "Probability: 0.4600000000000001\n",
      "Precision: 0.3430, Recall: 0.5693, F-1: 0.4281\n",
      "Probability: 0.52\n",
      "Precision: 0.3365, Recall: 0.4711, F-1: 0.3926\n",
      "Probability: 0.5800000000000001\n",
      "Precision: 0.3240, Recall: 0.3628, F-1: 0.3423\n",
      "Probability: 0.64\n",
      "Precision: 0.3079, Recall: 0.2675, F-1: 0.2863\n",
      "Probability: 0.7000000000000001\n",
      "Precision: 0.2874, Recall: 0.1837, F-1: 0.2242\n",
      "Probability: 0.76\n",
      "Precision: 0.2591, Recall: 0.1136, F-1: 0.1579\n",
      "Probability: 0.8200000000000001\n",
      "Precision: 0.3503, Recall: 0.9392, F-1: 0.5102\n",
      "Probability: 0.88\n",
      "Precision: 0.3471, Recall: 0.9750, F-1: 0.5119\n",
      "Probability: 0.9400000000000001\n",
      "Precision: 0.1054, Recall: 0.0059, F-1: 0.0112\n",
      "ALGORITHM 1: outlier rule for the value length distribution\n",
      "Probability: 0.1\n",
      "Precision: 0.3806, Recall: 0.0664, F-1: 0.1131\n",
      "Probability: 0.16\n",
      "Precision: 0.3870, Recall: 0.1104, F-1: 0.1718\n",
      "Probability: 0.22000000000000003\n",
      "Precision: 0.3936, Recall: 0.1584, F-1: 0.2259\n",
      "Probability: 0.28\n",
      "Precision: 0.3960, Recall: 0.2078, F-1: 0.2726\n",
      "Probability: 0.34\n",
      "Precision: 0.4183, Recall: 0.5684, F-1: 0.4819\n",
      "Probability: 0.4\n",
      "Precision: 0.4078, Recall: 0.3178, F-1: 0.3572\n",
      "Probability: 0.4600000000000001\n",
      "Precision: 0.4113, Recall: 0.3743, F-1: 0.3919\n",
      "Probability: 0.52\n",
      "Precision: 0.4138, Recall: 0.3999, F-1: 0.4067\n",
      "Probability: 0.5800000000000001\n",
      "Precision: 0.4156, Recall: 0.4904, F-1: 0.4499\n",
      "Probability: 0.64\n",
      "Precision: 0.4186, Recall: 0.5504, F-1: 0.4755\n",
      "Probability: 0.7000000000000001\n",
      "Precision: 0.4003, Recall: 0.2263, F-1: 0.2891\n",
      "Probability: 0.76\n",
      "Precision: 0.4202, Recall: 0.6633, F-1: 0.5145\n",
      "Probability: 0.8200000000000001\n",
      "Precision: 0.4210, Recall: 0.7192, F-1: 0.5311\n",
      "Probability: 0.88\n",
      "Precision: 0.4207, Recall: 0.7724, F-1: 0.5447\n",
      "Probability: 0.9400000000000001\n",
      "Precision: 0.4208, Recall: 0.8250, F-1: 0.5573\n"
     ]
    }
   ],
   "source": [
    "#ALGORITHM 1\n",
    "init_data = pd.read_csv(\"data/address-matrix-ec.csv\")\n",
    "\n",
    "ec_data = init_data[[\"ec-missing-value\",\"ec-default-value\",\"ec-top-value\",\"ec-valid-number\",\n",
    "                     \"ec-cardinality-vio\",\"ec-lookup-attr\",\"ec-valid-data-type\",\"ec-unused-column\",\n",
    "                     \"ec-pattern-value\",\"ec-value-len\",\"ec-value-len-Hampelx84\",\"ec-value-len-evt\",\n",
    "                     \"ec-value-len-1-5-IQR\",\"ec-value-len-z-test\",\"ec-value-len-trimmed-range\",\n",
    "                     \"ec-value-len-winsorized-range\"]]\n",
    "\n",
    "print(\"ALGORITHM 1: all ec rules\")\n",
    "for p in np.linspace(0.1, 1, num=15, endpoint=False):\n",
    "    u_reliablility, q_predicted = aggregating_labels_alg1(ec_data, p)\n",
    "    truth_labels = np.asarray(init_data[[\"label\"]].values)\n",
    "    conf_matrix=confusion_matrix(truth_labels, q_predicted)\n",
    "    print(\"Probability:\",p)\n",
    "    utils.f1(conf_matrix)\n",
    "\n",
    "    \n",
    "    \n",
    "ec_data_outlier = init_data[[\"ec-pattern-value\",\"ec-value-len\",\"ec-value-len-Hampelx84\",\"ec-value-len-evt\",\n",
    "                     \"ec-value-len-1-5-IQR\",\"ec-value-len-z-test\",\"ec-value-len-trimmed-range\",\n",
    "                     \"ec-value-len-winsorized-range\"]]\n",
    "print(\"ALGORITHM 1: outlier rule for the value length distribution\")\n",
    "for p in np.linspace(0.1, 1, num=15, endpoint=False):\n",
    "    u_reliablility, q_predicted = aggregating_labels_alg1(ec_data_outlier, p)\n",
    "    truth_labels = np.asarray(init_data[[\"label\"]].values)\n",
    "    conf_matrix=confusion_matrix(truth_labels, q_predicted)\n",
    "    print(\"Probability:\",p)\n",
    "    utils.f1(conf_matrix)"
   ]
  },
  {
   "cell_type": "code",
   "execution_count": 79,
   "metadata": {},
   "outputs": [
    {
     "name": "stdout",
     "output_type": "stream",
     "text": [
      "ALGORITHM 2: all ec rules\n",
      "Probability: 0.1\n",
      "Precision: 0.2169, Recall: 0.0311, F-1: 0.0544\n",
      "Probability: 0.16\n",
      "Precision: nan, Recall: 0.0000, F-1: nan\n"
     ]
    },
    {
     "name": "stderr",
     "output_type": "stream",
     "text": [
      "/Users/visenger/research/unsupervised-error-detection/implementation/utils.py:21: RuntimeWarning: invalid value encountered in long_scalars\n",
      "  precision = tp/(tp+fp)\n"
     ]
    },
    {
     "name": "stdout",
     "output_type": "stream",
     "text": [
      "Probability: 0.22000000000000003\n",
      "Precision: nan, Recall: 0.0000, F-1: nan\n",
      "Probability: 0.28\n",
      "Precision: nan, Recall: 0.0000, F-1: nan\n",
      "Probability: 0.34\n",
      "Precision: nan, Recall: 0.0000, F-1: nan\n",
      "Probability: 0.4\n",
      "Precision: nan, Recall: 0.0000, F-1: nan\n",
      "Probability: 0.4600000000000001\n",
      "Precision: nan, Recall: 0.0000, F-1: nan\n",
      "Probability: 0.52\n",
      "Precision: nan, Recall: 0.0000, F-1: nan\n",
      "Probability: 0.5800000000000001\n",
      "Precision: nan, Recall: 0.0000, F-1: nan\n",
      "Probability: 0.64\n",
      "Precision: nan, Recall: 0.0000, F-1: nan\n",
      "Probability: 0.7000000000000001\n",
      "Precision: nan, Recall: 0.0000, F-1: nan\n",
      "Probability: 0.76\n",
      "Precision: nan, Recall: 0.0000, F-1: nan\n",
      "Probability: 0.8200000000000001\n",
      "Precision: nan, Recall: 0.0000, F-1: nan\n",
      "Probability: 0.88\n",
      "Precision: 0.3463, Recall: 0.8664, F-1: 0.4949\n",
      "Probability: 0.9400000000000001\n",
      "Precision: 0.3434, Recall: 0.9365, F-1: 0.5025\n",
      "ALGORITHM 2: outlier rule for the value length distribution\n",
      "Probability: 0.1\n",
      "Precision: 0.3561, Recall: 0.0563, F-1: 0.0973\n",
      "Probability: 0.16\n",
      "Precision: 0.3625, Recall: 0.0945, F-1: 0.1499\n",
      "Probability: 0.22000000000000003\n",
      "Precision: 0.4157, Recall: 0.6618, F-1: 0.5106\n",
      "Probability: 0.28\n",
      "Precision: 0.3781, Recall: 0.1820, F-1: 0.2457\n",
      "Probability: 0.34\n",
      "Precision: 0.4108, Recall: 0.5391, F-1: 0.4663\n",
      "Probability: 0.4\n",
      "Precision: 0.3917, Recall: 0.2855, F-1: 0.3303\n",
      "Probability: 0.4600000000000001\n",
      "Precision: 0.4026, Recall: 0.4170, F-1: 0.4097\n",
      "Probability: 0.52\n",
      "Precision: 0.3951, Recall: 0.3816, F-1: 0.3882\n",
      "Probability: 0.5800000000000001\n",
      "Precision: 0.3933, Recall: 0.3043, F-1: 0.3432\n",
      "Probability: 0.64\n",
      "Precision: 0.4105, Recall: 0.5194, F-1: 0.4586\n",
      "Probability: 0.7000000000000001\n",
      "Precision: 0.3810, Recall: 0.1992, F-1: 0.2616\n",
      "Probability: 0.76\n",
      "Precision: 0.4152, Recall: 0.6414, F-1: 0.5041\n",
      "Probability: 0.8200000000000001\n",
      "Precision: 0.3673, Recall: 0.1085, F-1: 0.1675\n",
      "Probability: 0.88\n",
      "Precision: 0.3560, Recall: 0.0682, F-1: 0.1145\n",
      "Probability: 0.9400000000000001\n",
      "Precision: 0.3521, Recall: 0.0326, F-1: 0.0597\n"
     ]
    }
   ],
   "source": [
    "#ALGORITHM 2\n",
    "init_data = pd.read_csv(\"data/address-matrix-ec.csv\")\n",
    "ec_data = init_data[[\"ec-missing-value\",\"ec-default-value\",\"ec-top-value\",\"ec-valid-number\",\n",
    "                     \"ec-cardinality-vio\",\"ec-lookup-attr\",\"ec-valid-data-type\",\"ec-unused-column\",\n",
    "                     \"ec-pattern-value\",\"ec-value-len\",\"ec-value-len-Hampelx84\",\"ec-value-len-evt\",\n",
    "                     \"ec-value-len-1-5-IQR\",\"ec-value-len-z-test\",\"ec-value-len-trimmed-range\",\n",
    "                     \"ec-value-len-winsorized-range\"]]\n",
    "print(\"ALGORITHM 2: all ec rules\")\n",
    "\n",
    "for p in np.linspace(0.1, 1, num=15, endpoint=False):\n",
    "    u_reliablility, q_predicted = aggregating_labels_alg2(ec_data, p)\n",
    "    truth_labels = np.asarray(init_data[[\"label\"]].values)\n",
    "    conf_matrix=confusion_matrix(truth_labels, q_predicted)\n",
    "    print(\"Probability:\",p)\n",
    "    utils.f1(conf_matrix)\n",
    "    \n",
    "ec_data_outlier = init_data[[\"ec-pattern-value\",\"ec-value-len\",\"ec-value-len-Hampelx84\",\"ec-value-len-evt\",\n",
    "                     \"ec-value-len-1-5-IQR\",\"ec-value-len-z-test\",\"ec-value-len-trimmed-range\",\n",
    "                     \"ec-value-len-winsorized-range\"]]\n",
    "print(\"ALGORITHM 2: outlier rule for the value length distribution\")\n",
    "for p in np.linspace(0.1, 1, num=15, endpoint=False):\n",
    "    u_reliablility, q_predicted = aggregating_labels_alg2(ec_data_outlier, p)\n",
    "    truth_labels = np.asarray(init_data[[\"label\"]].values)\n",
    "    conf_matrix=confusion_matrix(truth_labels, q_predicted)\n",
    "    print(\"Probability:\",p)\n",
    "    utils.f1(conf_matrix)"
   ]
  },
  {
   "cell_type": "code",
   "execution_count": null,
   "metadata": {},
   "outputs": [],
   "source": []
  }
 ],
 "metadata": {
  "kernelspec": {
   "display_name": "Python 3",
   "language": "python",
   "name": "python3"
  },
  "language_info": {
   "codemirror_mode": {
    "name": "ipython",
    "version": 3
   },
   "file_extension": ".py",
   "mimetype": "text/x-python",
   "name": "python",
   "nbconvert_exporter": "python",
   "pygments_lexer": "ipython3",
   "version": "3.7.0"
  }
 },
 "nbformat": 4,
 "nbformat_minor": 2
}
