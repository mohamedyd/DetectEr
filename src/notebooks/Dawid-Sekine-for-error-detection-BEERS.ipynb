{
 "cells": [
  {
   "cell_type": "markdown",
   "metadata": {},
   "source": [
    "## The Dawid-Skene model with priors: BEERS"
   ]
  },
  {
   "cell_type": "code",
   "execution_count": 2,
   "metadata": {},
   "outputs": [
    {
     "name": "stdout",
     "output_type": "stream",
     "text": [
      "/Users/visenger/Library/Jupyter\n"
     ]
    }
   ],
   "source": [
    "from jupyter_core.paths import jupyter_data_dir\n",
    "print(jupyter_data_dir())"
   ]
  },
  {
   "cell_type": "code",
   "execution_count": 1,
   "metadata": {},
   "outputs": [],
   "source": [
    "%matplotlib inline\n",
    "\n",
    "import pymc3 as pm\n",
    "import numpy as np\n",
    "import matplotlib.pyplot as plt\n",
    "import pandas as pd\n",
    "\n",
    "from sklearn.metrics import confusion_matrix"
   ]
  },
  {
   "cell_type": "code",
   "execution_count": null,
   "metadata": {},
   "outputs": [],
   "source": []
  },
  {
   "cell_type": "code",
   "execution_count": 187,
   "metadata": {},
   "outputs": [
    {
     "data": {
      "text/html": [
       "<div>\n",
       "<style scoped>\n",
       "    .dataframe tbody tr th:only-of-type {\n",
       "        vertical-align: middle;\n",
       "    }\n",
       "\n",
       "    .dataframe tbody tr th {\n",
       "        vertical-align: top;\n",
       "    }\n",
       "\n",
       "    .dataframe thead th {\n",
       "        text-align: right;\n",
       "    }\n",
       "</style>\n",
       "<table border=\"1\" class=\"dataframe\">\n",
       "  <thead>\n",
       "    <tr style=\"text-align: right;\">\n",
       "      <th></th>\n",
       "      <th>num</th>\n",
       "      <th>annotator-id</th>\n",
       "      <th>y</th>\n",
       "      <th>label</th>\n",
       "    </tr>\n",
       "  </thead>\n",
       "  <tbody>\n",
       "    <tr>\n",
       "      <th>0</th>\n",
       "      <td>94</td>\n",
       "      <td>0</td>\n",
       "      <td>0</td>\n",
       "      <td>0</td>\n",
       "    </tr>\n",
       "    <tr>\n",
       "      <th>1</th>\n",
       "      <td>94</td>\n",
       "      <td>1</td>\n",
       "      <td>0</td>\n",
       "      <td>0</td>\n",
       "    </tr>\n",
       "    <tr>\n",
       "      <th>2</th>\n",
       "      <td>94</td>\n",
       "      <td>2</td>\n",
       "      <td>1</td>\n",
       "      <td>0</td>\n",
       "    </tr>\n",
       "    <tr>\n",
       "      <th>3</th>\n",
       "      <td>94</td>\n",
       "      <td>6</td>\n",
       "      <td>1</td>\n",
       "      <td>0</td>\n",
       "    </tr>\n",
       "    <tr>\n",
       "      <th>4</th>\n",
       "      <td>708</td>\n",
       "      <td>0</td>\n",
       "      <td>0</td>\n",
       "      <td>0</td>\n",
       "    </tr>\n",
       "  </tbody>\n",
       "</table>\n",
       "</div>"
      ],
      "text/plain": [
       "   num  annotator-id  y  label\n",
       "0   94             0  0      0\n",
       "1   94             1  0      0\n",
       "2   94             2  1      0\n",
       "3   94             6  1      0\n",
       "4  708             0  0      0"
      ]
     },
     "execution_count": 187,
     "metadata": {},
     "output_type": "execute_result"
    }
   ],
   "source": [
    "#read data from csv\n",
    "#header: num, annotator-id, y, label\n",
    "\n",
    "#BEERS\n",
    "init_data = pd.read_csv(\"data/beers-dawid-skene.csv\")\n",
    "init_data.head()\n"
   ]
  },
  {
   "cell_type": "code",
   "execution_count": null,
   "metadata": {},
   "outputs": [],
   "source": []
  },
  {
   "cell_type": "code",
   "execution_count": 189,
   "metadata": {},
   "outputs": [
    {
     "name": "stdout",
     "output_type": "stream",
     "text": [
      "[0 1 2 3 4 5 6]\n"
     ]
    }
   ],
   "source": [
    "I = 500              # number of items\n",
    "tmp_data = init_data.loc[init_data[\"num\"]<I]\n",
    "\n",
    "data = tmp_data.head(I)\n",
    "z_true = np.asarray(data[\"label\"].values)\n",
    "\n",
    "J_num= np.unique(np.asarray(data[\"annotator-id\"].values))\n",
    "print(J_num)\n",
    "J = J_num.size      # number of annotators\n",
    "K = 2               # number of classes: clean (0) or error (1) \n",
    "N = I * J"
   ]
  },
  {
   "cell_type": "code",
   "execution_count": 75,
   "metadata": {},
   "outputs": [],
   "source": [
    "#data.loc[data[\"label\"]==1].count()"
   ]
  },
  {
   "cell_type": "code",
   "execution_count": 76,
   "metadata": {},
   "outputs": [],
   "source": [
    "# create data triplets\n",
    "jj = list(np.asarray(data[\"annotator-id\"].values))  # annotator IDs\n",
    "ii = list(np.asarray(data[\"num\"].values))           # item IDs\n",
    "y = list(np.asarray(data[\"y\"].values))              # response\n"
   ]
  },
  {
   "cell_type": "code",
   "execution_count": 192,
   "metadata": {},
   "outputs": [
    {
     "name": "stderr",
     "output_type": "stream",
     "text": [
      "/usr/local/Cellar/ipython/6.5.0/libexec/vendor/lib/python3.7/site-packages/ipykernel_launcher.py:2: SettingWithCopyWarning: \n",
      "A value is trying to be set on a copy of a slice from a DataFrame.\n",
      "Try using .loc[row_indexer,col_indexer] = value instead\n",
      "\n",
      "See the caveats in the documentation: http://pandas.pydata.org/pandas-docs/stable/indexing.html#indexing-view-versus-copy\n",
      "  \n",
      "/usr/local/Cellar/ipython/6.5.0/libexec/vendor/lib/python3.7/site-packages/ipykernel_launcher.py:5: SettingWithCopyWarning: \n",
      "A value is trying to be set on a copy of a slice from a DataFrame.\n",
      "Try using .loc[row_indexer,col_indexer] = value instead\n",
      "\n",
      "See the caveats in the documentation: http://pandas.pydata.org/pandas-docs/stable/indexing.html#indexing-view-versus-copy\n",
      "  \"\"\"\n"
     ]
    },
    {
     "data": {
      "text/html": [
       "<div>\n",
       "<style scoped>\n",
       "    .dataframe tbody tr th:only-of-type {\n",
       "        vertical-align: middle;\n",
       "    }\n",
       "\n",
       "    .dataframe tbody tr th {\n",
       "        vertical-align: top;\n",
       "    }\n",
       "\n",
       "    .dataframe thead th {\n",
       "        text-align: right;\n",
       "    }\n",
       "</style>\n",
       "<table border=\"1\" class=\"dataframe\">\n",
       "  <thead>\n",
       "    <tr style=\"text-align: right;\">\n",
       "      <th></th>\n",
       "      <th>num</th>\n",
       "      <th>annotator-id</th>\n",
       "      <th>y</th>\n",
       "      <th>label</th>\n",
       "      <th>majority-vote</th>\n",
       "      <th>min-1</th>\n",
       "    </tr>\n",
       "  </thead>\n",
       "  <tbody>\n",
       "    <tr>\n",
       "      <th>0</th>\n",
       "      <td>94</td>\n",
       "      <td>0</td>\n",
       "      <td>0</td>\n",
       "      <td>0</td>\n",
       "      <td>0</td>\n",
       "      <td>0</td>\n",
       "    </tr>\n",
       "    <tr>\n",
       "      <th>1</th>\n",
       "      <td>94</td>\n",
       "      <td>1</td>\n",
       "      <td>0</td>\n",
       "      <td>0</td>\n",
       "      <td>0</td>\n",
       "      <td>0</td>\n",
       "    </tr>\n",
       "    <tr>\n",
       "      <th>2</th>\n",
       "      <td>94</td>\n",
       "      <td>2</td>\n",
       "      <td>1</td>\n",
       "      <td>0</td>\n",
       "      <td>0</td>\n",
       "      <td>0</td>\n",
       "    </tr>\n",
       "    <tr>\n",
       "      <th>3</th>\n",
       "      <td>94</td>\n",
       "      <td>6</td>\n",
       "      <td>1</td>\n",
       "      <td>0</td>\n",
       "      <td>0</td>\n",
       "      <td>0</td>\n",
       "    </tr>\n",
       "    <tr>\n",
       "      <th>403</th>\n",
       "      <td>68</td>\n",
       "      <td>0</td>\n",
       "      <td>0</td>\n",
       "      <td>0</td>\n",
       "      <td>0</td>\n",
       "      <td>1</td>\n",
       "    </tr>\n",
       "  </tbody>\n",
       "</table>\n",
       "</div>"
      ],
      "text/plain": [
       "     num  annotator-id  y  label  majority-vote  min-1\n",
       "0     94             0  0      0              0      0\n",
       "1     94             1  0      0              0      0\n",
       "2     94             2  1      0              0      0\n",
       "3     94             6  1      0              0      0\n",
       "403   68             0  0      0              0      1"
      ]
     },
     "execution_count": 192,
     "metadata": {},
     "output_type": "execute_result"
    }
   ],
   "source": [
    "f_majority_vote = lambda x: np.bincount(np.array( x )).argmax()\n",
    "data[\"majority-vote\"] = data.groupby(\"num\")[\"y\"].transform(f_majority_vote)\n",
    "\n",
    "f_at_least_one_vote = lambda x: np.bincount(np.array(x)).argmin()\n",
    "data[\"min-1\"] = data.groupby(\"num\")[\"y\"].transform(f_at_least_one_vote)\n",
    "\n",
    "data.head()"
   ]
  },
  {
   "cell_type": "markdown",
   "metadata": {},
   "source": [
    "Confusion matrix in binary classification, the count of true negatives is\n",
    "$C_{0,0}$, false negatives is $C_{1,0}$, true positives is\n",
    "$C_{1,1}$ and false positives is $C_{0,1}$."
   ]
  },
  {
   "cell_type": "code",
   "execution_count": 193,
   "metadata": {},
   "outputs": [
    {
     "name": "stdout",
     "output_type": "stream",
     "text": [
      "Majority vote estimate of true category:\n",
      " [[461   3]\n",
      " [ 36   0]]\n"
     ]
    }
   ],
   "source": [
    "z_majority_vote = np.asarray(data[\"majority-vote\"].values)\n",
    "\n",
    "confMat_majority_vote = confusion_matrix( z_true, z_majority_vote )\n",
    "print( \"Majority vote estimate of true category:\\n\" , confMat_majority_vote )"
   ]
  },
  {
   "cell_type": "code",
   "execution_count": 194,
   "metadata": {},
   "outputs": [
    {
     "name": "stdout",
     "output_type": "stream",
     "text": [
      "Min-1 estimate of true category:\n",
      " [[124 340]\n",
      " [  8  28]]\n"
     ]
    }
   ],
   "source": [
    "z_min_1 =np.asarray(data[\"min-1\"].values)\n",
    "\n",
    "confMat_min_1 = confusion_matrix( z_true, z_min_1 )\n",
    "print( \"Min-1 estimate of true category:\\n\" , confMat_min_1 )"
   ]
  },
  {
   "cell_type": "code",
   "execution_count": 80,
   "metadata": {},
   "outputs": [],
   "source": [
    "# class prevalence (flat prior)\n",
    "alpha = np.ones( K )\n",
    "\n",
    "# individual annotator confusion matrices - dominant diagonal\n",
    "beta = np.ones( (K,K) ) + np.diag( np.ones(K) )"
   ]
  },
  {
   "cell_type": "code",
   "execution_count": 82,
   "metadata": {},
   "outputs": [
    {
     "name": "stderr",
     "output_type": "stream",
     "text": [
      "/usr/local/lib/python3.7/site-packages/theano/tensor/subtensor.py:2190: FutureWarning: Using a non-tuple sequence for multidimensional indexing is deprecated; use `arr[tuple(seq)]` instead of `arr[seq]`. In the future this will be interpreted as an array index, `arr[np.array(seq)]`, which will result either in an error or a different result.\n",
      "  rval = inputs[0].__getitem__(inputs[1:])\n"
     ]
    }
   ],
   "source": [
    "#z_init = np.asarray(data[\"majority-vote\"].values)\n",
    "z_init = np.asarray(data[\"min-1\"].values)\n",
    "\n",
    "model = pm.Model()\n",
    "\n",
    "with model:\n",
    "    pi = pm.Dirichlet( 'pi', a=alpha, shape=K )\n",
    "    theta = pm.Dirichlet( 'theta', a=beta, shape=(J,K,K) )\n",
    "    z = pm.Categorical( 'z', p=pi, shape=I, testval=z_init )\n",
    "    y_obs = pm.Categorical( 'y_obs', p=theta[ jj, z[ ii ] ], observed=y )"
   ]
  },
  {
   "cell_type": "code",
   "execution_count": 83,
   "metadata": {},
   "outputs": [
    {
     "name": "stderr",
     "output_type": "stream",
     "text": [
      "Multiprocess sampling (4 chains in 4 jobs)\n",
      "CompoundStep\n",
      ">CompoundStep\n",
      ">>Metropolis: [theta]\n",
      ">>Metropolis: [pi]\n",
      ">CategoricalGibbsMetropolis: [z]\n",
      "Sampling 4 chains:   0%|          | 0/22000 [00:00<?, ?draws/s]/usr/local/lib/python3.7/site-packages/theano/tensor/subtensor.py:2190: FutureWarning: Using a non-tuple sequence for multidimensional indexing is deprecated; use `arr[tuple(seq)]` instead of `arr[seq]`. In the future this will be interpreted as an array index, `arr[np.array(seq)]`, which will result either in an error or a different result.\n",
      "  rval = inputs[0].__getitem__(inputs[1:])\n",
      "/usr/local/lib/python3.7/site-packages/theano/tensor/subtensor.py:2190: FutureWarning: Using a non-tuple sequence for multidimensional indexing is deprecated; use `arr[tuple(seq)]` instead of `arr[seq]`. In the future this will be interpreted as an array index, `arr[np.array(seq)]`, which will result either in an error or a different result.\n",
      "  rval = inputs[0].__getitem__(inputs[1:])\n",
      "/usr/local/lib/python3.7/site-packages/theano/tensor/subtensor.py:2190: FutureWarning: Using a non-tuple sequence for multidimensional indexing is deprecated; use `arr[tuple(seq)]` instead of `arr[seq]`. In the future this will be interpreted as an array index, `arr[np.array(seq)]`, which will result either in an error or a different result.\n",
      "  rval = inputs[0].__getitem__(inputs[1:])\n",
      "/usr/local/lib/python3.7/site-packages/theano/tensor/subtensor.py:2190: FutureWarning: Using a non-tuple sequence for multidimensional indexing is deprecated; use `arr[tuple(seq)]` instead of `arr[seq]`. In the future this will be interpreted as an array index, `arr[np.array(seq)]`, which will result either in an error or a different result.\n",
      "  rval = inputs[0].__getitem__(inputs[1:])\n",
      "Sampling 4 chains: 100%|██████████| 22000/22000 [13:15<00:00,  8.63draws/s]\n",
      "The estimated number of effective samples is smaller than 200 for some parameters.\n"
     ]
    }
   ],
   "source": [
    "with model:\n",
    "    step1 = pm.Metropolis( vars=[pi,theta] )\n",
    "    step2 = pm.CategoricalGibbsMetropolis( vars=[z] )\n",
    "    trace = pm.sample( 5000, step=[step1, step2], progressbar=True )\n"
   ]
  },
  {
   "cell_type": "code",
   "execution_count": 84,
   "metadata": {},
   "outputs": [
    {
     "data": {
      "text/plain": [
       "array([[<matplotlib.axes._subplots.AxesSubplot object at 0x13edd2390>,\n",
       "        <matplotlib.axes._subplots.AxesSubplot object at 0x13edee630>]],\n",
       "      dtype=object)"
      ]
     },
     "execution_count": 84,
     "metadata": {},
     "output_type": "execute_result"
    },
    {
     "data": {
      "image/png": "[encoded data removed]",
      "text/plain": [
       "<Figure size 864x144 with 2 Axes>"
      ]
     },
     "metadata": {},
     "output_type": "display_data"
    }
   ],
   "source": [
    "pm.traceplot( trace, varnames=['pi'] )"
   ]
  },
  {
   "cell_type": "code",
   "execution_count": 85,
   "metadata": {},
   "outputs": [
    {
     "data": {
      "text/plain": [
       "array([[<matplotlib.axes._subplots.AxesSubplot object at 0x1262572e8>,\n",
       "        <matplotlib.axes._subplots.AxesSubplot object at 0x1260c3898>]],\n",
       "      dtype=object)"
      ]
     },
     "execution_count": 85,
     "metadata": {},
     "output_type": "execute_result"
    },
    {
     "data": {
      "image/png": "[encoded data removed]",
      "text/plain": [
       "<Figure size 864x144 with 2 Axes>"
      ]
     },
     "metadata": {},
     "output_type": "display_data"
    }
   ],
   "source": [
    "pm.traceplot( trace, varnames=['theta'] )"
   ]
  },
  {
   "cell_type": "code",
   "execution_count": 86,
   "metadata": {},
   "outputs": [],
   "source": [
    "#to long\n",
    "#pm.traceplot( trace, varnames=['z'] )"
   ]
  },
  {
   "cell_type": "code",
   "execution_count": 17,
   "metadata": {},
   "outputs": [],
   "source": [
    "#error:\n",
    "#pm.traceplot( trace, varnames=['y_obs'] )"
   ]
  },
  {
   "cell_type": "code",
   "execution_count": 171,
   "metadata": {},
   "outputs": [
    {
     "name": "stdout",
     "output_type": "stream",
     "text": [
      "number of samples: 300\n",
      "[[  0. 108.]\n",
      " [  1. 392.]]\n"
     ]
    }
   ],
   "source": [
    "#for n in range(100, 10000, 100):\n",
    "n=300\n",
    "z = trace['z'][-n:,:]\n",
    "z_hat = np.zeros( I )\n",
    "\n",
    "for i in range( I ):\n",
    "    z_hat[ i ] = np.bincount( z[:,i] ).argmin()\n",
    "    \n",
    "unique, counts = np.unique(z_hat, return_counts=True)    \n",
    "print(\"number of samples:\", n)\n",
    "print(np.asarray((unique, counts)).T)"
   ]
  },
  {
   "cell_type": "code",
   "execution_count": 195,
   "metadata": {},
   "outputs": [],
   "source": [
    "def f1(confMat):\n",
    "    tn=confMat[0][0]\n",
    "    fp=confMat[0][1]\n",
    "    fn=confMat[1][0]\n",
    "    tp=confMat[1][1]\n",
    "    precision = tp/(tp+fp)\n",
    "    recall = tp/(tp+fn)\n",
    "    f_1= 2*precision*recall/(precision+recall)\n",
    "    print('Precision: %0.4f, Recall: %0.4f, F-1: %0.4f'% (precision, recall, f_1))"
   ]
  },
  {
   "cell_type": "code",
   "execution_count": 196,
   "metadata": {},
   "outputs": [],
   "source": [
    "#trace['z'].shape"
   ]
  },
  {
   "cell_type": "code",
   "execution_count": 197,
   "metadata": {},
   "outputs": [
    {
     "name": "stdout",
     "output_type": "stream",
     "text": [
      "Dawid-Skene estimate of true category:\n",
      " [[ 99 365]\n",
      " [  9  27]]\n",
      "Precision: 0.0689, Recall: 0.7500, F-1: 0.1262\n",
      "Majority wins:\n",
      "Precision: 0.0000, Recall: 0.0000, F-1: nan\n",
      "Min-1:\n",
      "Precision: 0.0761, Recall: 0.7778, F-1: 0.1386\n"
     ]
    }
   ],
   "source": [
    "confMat = confusion_matrix( z_true, z_hat )\n",
    "print( \"Dawid-Skene estimate of true category:\\n\", confMat )\n",
    "\n",
    "f1(confMat)\n",
    "\n",
    "print(\"Majority wins:\")\n",
    "f1(confMat_majority_vote)\n",
    "print(\"Min-1:\")\n",
    "f1(confMat_min_1)"
   ]
  },
  {
   "cell_type": "markdown",
   "metadata": {},
   "source": [
    "1 Variant: for training model, z_init is majority vote: Dawid-Skene estimate of true category:\n",
    "\n",
    " [[464   0]\n",
    " \n",
    " [ 36   0]]\n",
    " \n",
    " \n",
    "2 Variant: for training model, z_init is min-1:\n",
    "Dawid-Skene estimate of true category:\n",
    "\n",
    " [[461   3]\n",
    " \n",
    " [ 36   0]]"
   ]
  },
  {
   "cell_type": "code",
   "execution_count": 174,
   "metadata": {},
   "outputs": [
    {
     "name": "stdout",
     "output_type": "stream",
     "text": [
      "Annotator j=0\n",
      "[[0.98 0.02]\n",
      " [0.73 0.27]]\n",
      "Annotator j=1\n",
      "[[9.99e-01 9.79e-04]\n",
      " [5.39e-01 4.61e-01]]\n",
      "Annotator j=2\n",
      "[[0.22 0.78]\n",
      " [0.92 0.08]]\n",
      "Annotator j=3\n",
      "[[0.9  0.1 ]\n",
      " [0.04 0.96]]\n",
      "Annotator j=4\n",
      "[[0.28 0.72]\n",
      " [0.04 0.96]]\n",
      "Annotator j=5\n",
      "[[0.97 0.03]\n",
      " [0.35 0.65]]\n",
      "Annotator j=6\n",
      "[[0.44 0.56]\n",
      " [0.13 0.87]]\n"
     ]
    }
   ],
   "source": [
    "np.set_printoptions(precision=2)\n",
    "for j in range( J ):\n",
    "    print( \"Annotator j=\" + str(j) )\n",
    "    Cj = trace['theta'][-1,j]\n",
    "    print( Cj )"
   ]
  },
  {
   "cell_type": "markdown",
   "metadata": {},
   "source": [
    "The best annotator:\n",
    "Annotator j=3\n",
    "[[0.9  0.1 ]\n",
    " [0.04 0.96]]"
   ]
  },
  {
   "cell_type": "code",
   "execution_count": 198,
   "metadata": {},
   "outputs": [
    {
     "name": "stdout",
     "output_type": "stream",
     "text": [
      "annotator estimate of true category:\n",
      " 0 [[23172   880]\n",
      " [ 2331   127]]\n",
      "Precision: 0.1261, Recall: 0.0517, F-1: 0.0733\n",
      "annotator estimate of true category:\n",
      " 1 [[23172     0]\n",
      " [ 2139   192]]\n",
      "Precision: 1.0000, Recall: 0.0824, F-1: 0.1522\n",
      "annotator estimate of true category:\n",
      " 2 [[ 5645 17527]\n",
      " [ 1109  1222]]\n",
      "Precision: 0.0652, Recall: 0.5242, F-1: 0.1159\n",
      "annotator estimate of true category:\n",
      " 3 [[8971    0]\n",
      " [   0 2204]]\n",
      "Precision: 1.0000, Recall: 1.0000, F-1: 1.0000\n",
      "annotator estimate of true category:\n",
      " 4 [[   0 1874]\n",
      " [   0  205]]\n",
      "Precision: 0.0986, Recall: 1.0000, F-1: 0.1795\n",
      "annotator estimate of true category:\n",
      " 5 [[4470   96]\n",
      " [   0  254]]\n",
      "Precision: 0.7257, Recall: 1.0000, F-1: 0.8411\n",
      "annotator estimate of true category:\n",
      " 6 [[ 0 33]\n",
      " [ 0  1]]\n",
      "Precision: 0.0294, Recall: 1.0000, F-1: 0.0571\n"
     ]
    }
   ],
   "source": [
    "#investigating annotator j=3:\n",
    "#j=2\n",
    "\n",
    "for j in range (0, J):\n",
    "    annotator_data=init_data.loc[init_data[\"annotator-id\"]==j]\n",
    "    y_annotator= np.asarray(annotator_data[\"y\"].values)\n",
    "    true_label = np.asarray(annotator_data[\"label\"].values)\n",
    "    annotator_conf_matrix = confusion_matrix( true_label, y_annotator )\n",
    "    print( \"annotator estimate of true category:\\n\" ,j, annotator_conf_matrix )\n",
    "    f1(annotator_conf_matrix)"
   ]
  },
  {
   "cell_type": "code",
   "execution_count": 190,
   "metadata": {},
   "outputs": [
    {
     "name": "stdout",
     "output_type": "stream",
     "text": [
      "[[    0 85840]\n",
      " [    1  9784]]\n"
     ]
    }
   ],
   "source": [
    "labels = np.asarray(init_data[\"label\"].values)\n",
    "unique, counts = np.unique(labels, return_counts=True)    \n",
    "\n",
    "print(np.asarray((unique, counts)).T)"
   ]
  },
  {
   "cell_type": "code",
   "execution_count": null,
   "metadata": {},
   "outputs": [],
   "source": []
  }
 ],
 "metadata": {
  "kernelspec": {
   "display_name": "Python 3",
   "language": "python",
   "name": "python3"
  },
  "language_info": {
   "codemirror_mode": {
    "name": "ipython",
    "version": 3
   },
   "file_extension": ".py",
   "mimetype": "text/x-python",
   "name": "python",
   "nbconvert_exporter": "python",
   "pygments_lexer": "ipython3",
   "version": "3.7.0"
  }
 },
 "nbformat": 4,
 "nbformat_minor": 2
}
